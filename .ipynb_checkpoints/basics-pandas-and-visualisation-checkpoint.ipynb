{
 "cells": [
  {
   "cell_type": "code",
   "execution_count": 4,
   "id": "83c573da-2e3d-4444-97c2-e3ba9643accd",
   "metadata": {},
   "outputs": [],
   "source": [
    "import numpy as np\n",
    "import matplotlib.pyplot as plt\n",
    "import pandas as pd\n",
    "import seaborn as sns"
   ]
  },
  {
   "cell_type": "code",
   "execution_count": null,
   "id": "bca3005d-5073-4b1a-a89e-d1888739b4f2",
   "metadata": {},
   "outputs": [],
   "source": [
    "plt.figure(figsize=(width, height))\n",
    "sns.boxplot(df['columname']) \n",
    "sns.boxplot(x=df['collumnname'])\n"
   ]
  },
  {
   "cell_type": "code",
   "execution_count": null,
   "id": "b5914fe5-9ea0-4ed6-9bf4-d62924276c84",
   "metadata": {},
   "outputs": [],
   "source": [
    "plt.figure(figsize=(width, height))\n",
    "\n",
    "plt.subplot(n_rows, n_cols, position)\n",
    "plt.title('title1')\n",
    "sns.boxplot(x = df[df['col']=='val']['col2'])\n",
    "\n",
    "plt.subplot(n_rows, n_cols, position2)\n",
    "plt.title('title2')\n",
    "sns.boxplot(x = df[df['col']=='val2']['col2'])\n"
   ]
  },
  {
   "cell_type": "code",
   "execution_count": null,
   "id": "48593142-bc4d-4376-b365-6d3bb5b87df7",
   "metadata": {},
   "outputs": [],
   "source": [
    "d = df['gender'].value_count().reset_index()\n",
    "sns.barplot(x = d['index'], y =d['gender'])\n"
   ]
  },
  {
   "cell_type": "code",
   "execution_count": null,
   "id": "1769bcad-64d4-4927-b0fe-532c19228faf",
   "metadata": {},
   "outputs": [],
   "source": [
    "d = df.groupby('columnname1').agg({'column2':'agg_func(mean,max)'}).reset_index()\n",
    "sns.barplot(x = d['col1'], y = d['col2'])\n"
   ]
  },
  {
   "cell_type": "code",
   "execution_count": null,
   "id": "e2a932e9-f255-4dbd-8def-8864803f3ae8",
   "metadata": {},
   "outputs": [],
   "source": [
    "#hue is imp property which shows category inside a category\n",
    "#in count plot \n",
    "#together it shows combinations of categories and their counts\n",
    "sns.countplot(x = df['categorical_col1'], hue=df['categoriacal_col2'])"
   ]
  },
  {
   "cell_type": "code",
   "execution_count": null,
   "id": "3d0ddba2-8452-4306-937d-cf9ffb566c98",
   "metadata": {},
   "outputs": [],
   "source": [
    "#first step of data analysis process is to inspect the data like each and every col\n",
    "#check if there are non sensible data types for a column change them according to your needs\n",
    "df['col'].dtype # to check the data type of the column\n",
    "df['col'].astype(int) # change the data type according to your use case\n",
    "#if you face any error like NA or infinity try to check if there is Na in the data\n",
    "df['col'].isnull().sum()\n",
    "\n",
    "\n",
    "\n",
    "### important note\n",
    "#while working with data with a column having NaN, because NaN is a float, this forces any integer to become a float overall the column becomes float\n",
    "# for this pandas come up with new data type \n",
    "#nullable integer data type ( Int64) \"I\" is differentiated between int\n",
    "df['col'] = df['col'].astype(\"Int64\")\n",
    "df['col'].dropna() # to drop na\n",
    "\n",
    "\n",
    "#while plotting if you face overlapping issue use the\n",
    "sns.plt....\n",
    "plt.xticks(rotation = 90)\n",
    "\n"
   ]
  },
  {
   "cell_type": "code",
   "execution_count": null,
   "id": "c99811ac-10a7-4011-906a-ac55c321b046",
   "metadata": {},
   "outputs": [],
   "source": [
    "pd.to_numeric(df['col']) # converts the data type of the column to int or float according to the values\n",
    "import pandas as pd\n",
    "\n",
    "data = ['1', '2', '3.5', '4']\n",
    "numeric_data = pd.to_numeric(data)\n",
    "print(numeric_data)\n",
    "#[1.0, 2.0, 3.5, 4.0]\n",
    "\n",
    "pd.to_numeric(data, error='coerce') #error argument can take one of the three values raise, coerce, ignore\n",
    "#raise -> raises the error\n",
    "#coerce -> converts to NaN if an error occurs like if the value is ' '\n",
    "#ignore -> discards or ignores entire row\n"
   ]
  },
  {
   "cell_type": "code",
   "execution_count": null,
   "id": "bba4fedb-ee11-494a-9b41-4178676fba2c",
   "metadata": {},
   "outputs": [],
   "source": [
    "pd.to_datetime(df['datecol'],format='') # use strftime.org"
   ]
  },
  {
   "cell_type": "code",
   "execution_count": null,
   "id": "a03ad179-c518-496a-9597-0e8a58bff467",
   "metadata": {},
   "outputs": [],
   "source": [
    "#if the column data is utc timeformat in object type\n",
    "#convert using\n",
    "pd.to_datetime(df['col']) \n",
    "#and then if you want to seperate date and time from the datetime col\n",
    "df['date'] = df['col'].dt.date # return the values in object so need to convert them again to date type\n",
    "pd.to_datetime(df['date'])\n",
    "df['time'] =df['col'].dt.time"
   ]
  },
  {
   "cell_type": "code",
   "execution_count": null,
   "id": "61e7e2b8-f6ea-4503-af0f-8239c93b727f",
   "metadata": {},
   "outputs": [],
   "source": [
    "df.drop_duplicates()"
   ]
  }
 ],
 "metadata": {
  "kernelspec": {
   "display_name": "Python (base)",
   "language": "python",
   "name": "base"
  },
  "language_info": {
   "codemirror_mode": {
    "name": "ipython",
    "version": 3
   },
   "file_extension": ".py",
   "mimetype": "text/x-python",
   "name": "python",
   "nbconvert_exporter": "python",
   "pygments_lexer": "ipython3",
   "version": "3.11.8"
  }
 },
 "nbformat": 4,
 "nbformat_minor": 5
}
